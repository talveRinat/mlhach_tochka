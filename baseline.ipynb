{
 "metadata": {
  "language_info": {
   "name": "python",
   "version": "3.10.8",
   "mimetype": "text/x-python",
   "codemirror_mode": {
    "name": "ipython",
    "version": 3
   },
   "pygments_lexer": "ipython3",
   "nbconvert_exporter": "python",
   "file_extension": ".py"
  },
  "kernelspec": {
   "name": "python3",
   "display_name": "Python 3 (ipykernel)",
   "language": "python"
  }
 },
 "nbformat_minor": 5,
 "nbformat": 4,
 "cells": [
  {
   "cell_type": "code",
   "source": [
    "import pandas as pd\n",
    "from xgboost import XGBRegressor\n",
    "from sklearn.model_selection import train_test_split"
   ],
   "metadata": {
    "trusted": true,
    "tags": []
   },
   "execution_count": 1,
   "outputs": [
    {
     "name": "stderr",
     "text": "/opt/conda/envs/jph/lib/python3.10/site-packages/xgboost/compat.py:36: FutureWarning: pandas.Int64Index is deprecated and will be removed from pandas in a future version. Use pandas.Index with the appropriate dtype instead.\n  from pandas import MultiIndex, Int64Index\n",
     "output_type": "stream"
    }
   ],
   "id": "d0fd2a94-b24d-41eb-a911-a7e349952c79"
  },
  {
   "cell_type": "markdown",
   "source": [
    "## Реализуем метрику из задачи"
   ],
   "metadata": {},
   "id": "23bf08ab-b062-4015-ad48-59537845e34c"
  },
  {
   "cell_type": "code",
   "source": [
    "def metric(true, pred, coef=1000):\n",
    "    assert len(true) == len(pred)\n",
    "    error = 0\n",
    "    for i in range(len(true)):\n",
    "        if true[i] > pred[i]:\n",
    "            error += true[i] - pred[i]\n",
    "        else:\n",
    "            error += (pred[i] - true[i]) * coef\n",
    "    return -round(error / len(true) / 1_000_000_000)"
   ],
   "metadata": {
    "trusted": true,
    "tags": []
   },
   "execution_count": 2,
   "outputs": [],
   "id": "6e7be3c9-91cc-4c51-9d06-03a07f09e4eb"
  },
  {
   "cell_type": "markdown",
   "source": [
    "## Прочитаем и подготовим данные"
   ],
   "metadata": {},
   "id": "6d6c2af7-637b-4c47-8260-e43bb26ad5f6"
  },
  {
   "cell_type": "code",
   "source": [
    "df_train = pd.read_csv('/home/jovyan/work/train.csv')"
   ],
   "metadata": {
    "trusted": true,
    "tags": []
   },
   "execution_count": 3,
   "outputs": [],
   "id": "641c1639-1eb5-49f2-9ba0-6bcf083f1244"
  },
  {
   "cell_type": "code",
   "source": [
    "df_train.head()"
   ],
   "metadata": {
    "trusted": true,
    "tags": []
   },
   "execution_count": 4,
   "outputs": [
    {
     "execution_count": 4,
     "output_type": "execute_result",
     "data": {
      "text/plain": "              id         day 1         day 2         day 3         day 4  \\\n0  6602185159948  569369144437  152818843344  -15490421929    -406624212   \n1  1663310387493 -104722473995  -29275417695  423353969042  416864670779   \n2  3604676372924  -42697753432  154940888256    5290701628    2915610080   \n3  3517792576177  735945593435  877636042341   -5241075542   -1817826687   \n4  6892195368446  697850269572  980815916948  -11470196952  -21103754202   \n\n           day 5          day 6          day 7          day 8         day 9  \\\n0   800362695678  2306966308406  1917859437929  1075925676467  277630770065   \n1  -323866168258   -59323097843    58355171506   250838843414 -184607036341   \n2  -241412656598    -2172755647   -60115526657    99210264232  281086593365   \n3  1008399822616   996548931508   471592893006   479393037398  246618026800   \n4  1207799272628  1202816134496   559646086486  1058635690664  122661998719   \n\n   ...        day 81         day 82         day 83         day 84  \\\n0  ...  -23536698564  1524999469315  1668473296482   -55911238122   \n1  ...  529867756317  -245569015020   -13050008306  1122739774405   \n2  ...   32773187167  -347787851371   172520154368    46099833867   \n3  ...    4227540489   855279732927   808871471815    -8997018250   \n4  ...  -17229675906   940502608045   728437869463    13477840270   \n\n          day 85         day 86        day 87        day 88         day 89  \\\n0  1105906678699  1134120612066  -26829699967  -19492512239  1850461161279   \n1  -358972410001  -294465761456  289760186052  588830896355   -21661542192   \n2  -297776587790   200380940252  153279754373   42773997259     5607112117   \n3   627399608353   223093070252  -25844611162   -9955925825   603978495789   \n4  1455297859610   409612399843   -6730004331   19193466540  1163355637082   \n\n          day 90  \n0 -1781621104800  \n1  -153747680862  \n2  4789271560371  \n3   366344015281  \n4  -138405088616  \n\n[5 rows x 91 columns]",
      "text/html": "<div>\n<style scoped>\n    .dataframe tbody tr th:only-of-type {\n        vertical-align: middle;\n    }\n\n    .dataframe tbody tr th {\n        vertical-align: top;\n    }\n\n    .dataframe thead th {\n        text-align: right;\n    }\n</style>\n<table border=\"1\" class=\"dataframe\">\n  <thead>\n    <tr style=\"text-align: right;\">\n      <th></th>\n      <th>id</th>\n      <th>day 1</th>\n      <th>day 2</th>\n      <th>day 3</th>\n      <th>day 4</th>\n      <th>day 5</th>\n      <th>day 6</th>\n      <th>day 7</th>\n      <th>day 8</th>\n      <th>day 9</th>\n      <th>...</th>\n      <th>day 81</th>\n      <th>day 82</th>\n      <th>day 83</th>\n      <th>day 84</th>\n      <th>day 85</th>\n      <th>day 86</th>\n      <th>day 87</th>\n      <th>day 88</th>\n      <th>day 89</th>\n      <th>day 90</th>\n    </tr>\n  </thead>\n  <tbody>\n    <tr>\n      <th>0</th>\n      <td>6602185159948</td>\n      <td>569369144437</td>\n      <td>152818843344</td>\n      <td>-15490421929</td>\n      <td>-406624212</td>\n      <td>800362695678</td>\n      <td>2306966308406</td>\n      <td>1917859437929</td>\n      <td>1075925676467</td>\n      <td>277630770065</td>\n      <td>...</td>\n      <td>-23536698564</td>\n      <td>1524999469315</td>\n      <td>1668473296482</td>\n      <td>-55911238122</td>\n      <td>1105906678699</td>\n      <td>1134120612066</td>\n      <td>-26829699967</td>\n      <td>-19492512239</td>\n      <td>1850461161279</td>\n      <td>-1781621104800</td>\n    </tr>\n    <tr>\n      <th>1</th>\n      <td>1663310387493</td>\n      <td>-104722473995</td>\n      <td>-29275417695</td>\n      <td>423353969042</td>\n      <td>416864670779</td>\n      <td>-323866168258</td>\n      <td>-59323097843</td>\n      <td>58355171506</td>\n      <td>250838843414</td>\n      <td>-184607036341</td>\n      <td>...</td>\n      <td>529867756317</td>\n      <td>-245569015020</td>\n      <td>-13050008306</td>\n      <td>1122739774405</td>\n      <td>-358972410001</td>\n      <td>-294465761456</td>\n      <td>289760186052</td>\n      <td>588830896355</td>\n      <td>-21661542192</td>\n      <td>-153747680862</td>\n    </tr>\n    <tr>\n      <th>2</th>\n      <td>3604676372924</td>\n      <td>-42697753432</td>\n      <td>154940888256</td>\n      <td>5290701628</td>\n      <td>2915610080</td>\n      <td>-241412656598</td>\n      <td>-2172755647</td>\n      <td>-60115526657</td>\n      <td>99210264232</td>\n      <td>281086593365</td>\n      <td>...</td>\n      <td>32773187167</td>\n      <td>-347787851371</td>\n      <td>172520154368</td>\n      <td>46099833867</td>\n      <td>-297776587790</td>\n      <td>200380940252</td>\n      <td>153279754373</td>\n      <td>42773997259</td>\n      <td>5607112117</td>\n      <td>4789271560371</td>\n    </tr>\n    <tr>\n      <th>3</th>\n      <td>3517792576177</td>\n      <td>735945593435</td>\n      <td>877636042341</td>\n      <td>-5241075542</td>\n      <td>-1817826687</td>\n      <td>1008399822616</td>\n      <td>996548931508</td>\n      <td>471592893006</td>\n      <td>479393037398</td>\n      <td>246618026800</td>\n      <td>...</td>\n      <td>4227540489</td>\n      <td>855279732927</td>\n      <td>808871471815</td>\n      <td>-8997018250</td>\n      <td>627399608353</td>\n      <td>223093070252</td>\n      <td>-25844611162</td>\n      <td>-9955925825</td>\n      <td>603978495789</td>\n      <td>366344015281</td>\n    </tr>\n    <tr>\n      <th>4</th>\n      <td>6892195368446</td>\n      <td>697850269572</td>\n      <td>980815916948</td>\n      <td>-11470196952</td>\n      <td>-21103754202</td>\n      <td>1207799272628</td>\n      <td>1202816134496</td>\n      <td>559646086486</td>\n      <td>1058635690664</td>\n      <td>122661998719</td>\n      <td>...</td>\n      <td>-17229675906</td>\n      <td>940502608045</td>\n      <td>728437869463</td>\n      <td>13477840270</td>\n      <td>1455297859610</td>\n      <td>409612399843</td>\n      <td>-6730004331</td>\n      <td>19193466540</td>\n      <td>1163355637082</td>\n      <td>-138405088616</td>\n    </tr>\n  </tbody>\n</table>\n<p>5 rows × 91 columns</p>\n</div>"
     },
     "metadata": {}
    }
   ],
   "id": "81882101-4314-4337-aba6-79dae0664aea"
  },
  {
   "cell_type": "code",
   "source": [
    "df_train.shape"
   ],
   "metadata": {
    "trusted": true,
    "tags": []
   },
   "execution_count": 5,
   "outputs": [
    {
     "execution_count": 5,
     "output_type": "execute_result",
     "data": {
      "text/plain": "(20000, 91)"
     },
     "metadata": {}
    }
   ],
   "id": "3da2776a-2f8f-4d81-97ae-4f902295bf56"
  },
  {
   "cell_type": "code",
   "source": [
    "X = df_train[[f'day {x}' for x in range(1, 90)]]\n",
    "Y = df_train['day 90']"
   ],
   "metadata": {
    "trusted": true,
    "tags": []
   },
   "execution_count": 6,
   "outputs": [],
   "id": "2ca69b7b-259c-4e96-852b-6d1c7f2d95b5"
  },
  {
   "cell_type": "code",
   "source": [
    "X.head()"
   ],
   "metadata": {
    "trusted": true,
    "tags": []
   },
   "execution_count": 7,
   "outputs": [
    {
     "execution_count": 7,
     "output_type": "execute_result",
     "data": {
      "text/plain": "          day 1         day 2         day 3         day 4          day 5  \\\n0  569369144437  152818843344  -15490421929    -406624212   800362695678   \n1 -104722473995  -29275417695  423353969042  416864670779  -323866168258   \n2  -42697753432  154940888256    5290701628    2915610080  -241412656598   \n3  735945593435  877636042341   -5241075542   -1817826687  1008399822616   \n4  697850269572  980815916948  -11470196952  -21103754202  1207799272628   \n\n           day 6          day 7          day 8         day 9        day 10  \\\n0  2306966308406  1917859437929  1075925676467  277630770065   -1039738738   \n1   -59323097843    58355171506   250838843414 -184607036341  371352008249   \n2    -2172755647   -60115526657    99210264232  281086593365   64728036374   \n3   996548931508   471592893006   479393037398  246618026800   -5322931641   \n4  1202816134496   559646086486  1058635690664  122661998719    3419722951   \n\n   ...        day 80        day 81         day 82         day 83  \\\n0  ...  -19148904713  -23536698564  1524999469315  1668473296482   \n1  ...  330976588040  529867756317  -245569015020   -13050008306   \n2  ...  169669285257   32773187167  -347787851371   172520154368   \n3  ...  -25780592418    4227540489   855279732927   808871471815   \n4  ...   23074058185  -17229675906   940502608045   728437869463   \n\n          day 84         day 85         day 86        day 87        day 88  \\\n0   -55911238122  1105906678699  1134120612066  -26829699967  -19492512239   \n1  1122739774405  -358972410001  -294465761456  289760186052  588830896355   \n2    46099833867  -297776587790   200380940252  153279754373   42773997259   \n3    -8997018250   627399608353   223093070252  -25844611162   -9955925825   \n4    13477840270  1455297859610   409612399843   -6730004331   19193466540   \n\n          day 89  \n0  1850461161279  \n1   -21661542192  \n2     5607112117  \n3   603978495789  \n4  1163355637082  \n\n[5 rows x 89 columns]",
      "text/html": "<div>\n<style scoped>\n    .dataframe tbody tr th:only-of-type {\n        vertical-align: middle;\n    }\n\n    .dataframe tbody tr th {\n        vertical-align: top;\n    }\n\n    .dataframe thead th {\n        text-align: right;\n    }\n</style>\n<table border=\"1\" class=\"dataframe\">\n  <thead>\n    <tr style=\"text-align: right;\">\n      <th></th>\n      <th>day 1</th>\n      <th>day 2</th>\n      <th>day 3</th>\n      <th>day 4</th>\n      <th>day 5</th>\n      <th>day 6</th>\n      <th>day 7</th>\n      <th>day 8</th>\n      <th>day 9</th>\n      <th>day 10</th>\n      <th>...</th>\n      <th>day 80</th>\n      <th>day 81</th>\n      <th>day 82</th>\n      <th>day 83</th>\n      <th>day 84</th>\n      <th>day 85</th>\n      <th>day 86</th>\n      <th>day 87</th>\n      <th>day 88</th>\n      <th>day 89</th>\n    </tr>\n  </thead>\n  <tbody>\n    <tr>\n      <th>0</th>\n      <td>569369144437</td>\n      <td>152818843344</td>\n      <td>-15490421929</td>\n      <td>-406624212</td>\n      <td>800362695678</td>\n      <td>2306966308406</td>\n      <td>1917859437929</td>\n      <td>1075925676467</td>\n      <td>277630770065</td>\n      <td>-1039738738</td>\n      <td>...</td>\n      <td>-19148904713</td>\n      <td>-23536698564</td>\n      <td>1524999469315</td>\n      <td>1668473296482</td>\n      <td>-55911238122</td>\n      <td>1105906678699</td>\n      <td>1134120612066</td>\n      <td>-26829699967</td>\n      <td>-19492512239</td>\n      <td>1850461161279</td>\n    </tr>\n    <tr>\n      <th>1</th>\n      <td>-104722473995</td>\n      <td>-29275417695</td>\n      <td>423353969042</td>\n      <td>416864670779</td>\n      <td>-323866168258</td>\n      <td>-59323097843</td>\n      <td>58355171506</td>\n      <td>250838843414</td>\n      <td>-184607036341</td>\n      <td>371352008249</td>\n      <td>...</td>\n      <td>330976588040</td>\n      <td>529867756317</td>\n      <td>-245569015020</td>\n      <td>-13050008306</td>\n      <td>1122739774405</td>\n      <td>-358972410001</td>\n      <td>-294465761456</td>\n      <td>289760186052</td>\n      <td>588830896355</td>\n      <td>-21661542192</td>\n    </tr>\n    <tr>\n      <th>2</th>\n      <td>-42697753432</td>\n      <td>154940888256</td>\n      <td>5290701628</td>\n      <td>2915610080</td>\n      <td>-241412656598</td>\n      <td>-2172755647</td>\n      <td>-60115526657</td>\n      <td>99210264232</td>\n      <td>281086593365</td>\n      <td>64728036374</td>\n      <td>...</td>\n      <td>169669285257</td>\n      <td>32773187167</td>\n      <td>-347787851371</td>\n      <td>172520154368</td>\n      <td>46099833867</td>\n      <td>-297776587790</td>\n      <td>200380940252</td>\n      <td>153279754373</td>\n      <td>42773997259</td>\n      <td>5607112117</td>\n    </tr>\n    <tr>\n      <th>3</th>\n      <td>735945593435</td>\n      <td>877636042341</td>\n      <td>-5241075542</td>\n      <td>-1817826687</td>\n      <td>1008399822616</td>\n      <td>996548931508</td>\n      <td>471592893006</td>\n      <td>479393037398</td>\n      <td>246618026800</td>\n      <td>-5322931641</td>\n      <td>...</td>\n      <td>-25780592418</td>\n      <td>4227540489</td>\n      <td>855279732927</td>\n      <td>808871471815</td>\n      <td>-8997018250</td>\n      <td>627399608353</td>\n      <td>223093070252</td>\n      <td>-25844611162</td>\n      <td>-9955925825</td>\n      <td>603978495789</td>\n    </tr>\n    <tr>\n      <th>4</th>\n      <td>697850269572</td>\n      <td>980815916948</td>\n      <td>-11470196952</td>\n      <td>-21103754202</td>\n      <td>1207799272628</td>\n      <td>1202816134496</td>\n      <td>559646086486</td>\n      <td>1058635690664</td>\n      <td>122661998719</td>\n      <td>3419722951</td>\n      <td>...</td>\n      <td>23074058185</td>\n      <td>-17229675906</td>\n      <td>940502608045</td>\n      <td>728437869463</td>\n      <td>13477840270</td>\n      <td>1455297859610</td>\n      <td>409612399843</td>\n      <td>-6730004331</td>\n      <td>19193466540</td>\n      <td>1163355637082</td>\n    </tr>\n  </tbody>\n</table>\n<p>5 rows × 89 columns</p>\n</div>"
     },
     "metadata": {}
    }
   ],
   "id": "a08852aa-3aac-4b44-a3ea-9e4e9942ad59"
  },
  {
   "cell_type": "code",
   "source": [
    "X_train, X_test, Y_train, Y_test = train_test_split(X, Y, test_size=0.2)"
   ],
   "metadata": {
    "trusted": true,
    "tags": []
   },
   "execution_count": 8,
   "outputs": [],
   "id": "34ea75f4-d54e-4607-909a-c074de0eab34"
  },
  {
   "cell_type": "markdown",
   "source": [
    "## Обучим модель"
   ],
   "metadata": {},
   "id": "ffcb2be1-12eb-419c-8d67-d1691ec004f7"
  },
  {
   "cell_type": "code",
   "source": [
    "%%time\n",
    "model = XGBRegressor(n_estimators=100)\n",
    "model.fit(X_train, Y_train)\n",
    "pred = model.predict(X_test)"
   ],
   "metadata": {
    "trusted": true,
    "tags": []
   },
   "execution_count": 9,
   "outputs": [
    {
     "name": "stderr",
     "text": "/opt/conda/envs/jph/lib/python3.10/site-packages/xgboost/data.py:262: FutureWarning: pandas.Int64Index is deprecated and will be removed from pandas in a future version. Use pandas.Index with the appropriate dtype instead.\n  elif isinstance(data.columns, (pd.Int64Index, pd.RangeIndex)):\n",
     "output_type": "stream"
    },
    {
     "name": "stdout",
     "text": "CPU times: user 3min 52s, sys: 2.65 s, total: 3min 54s\nWall time: 3min 59s\n",
     "output_type": "stream"
    }
   ],
   "id": "6831e729-9994-497b-a475-33e4cceb7ccf"
  },
  {
   "cell_type": "code",
   "source": [
    "metric(Y_test.tolist(), pred)"
   ],
   "metadata": {
    "trusted": true,
    "tags": []
   },
   "execution_count": 10,
   "outputs": [
    {
     "execution_count": 10,
     "output_type": "execute_result",
     "data": {
      "text/plain": "-105744"
     },
     "metadata": {}
    }
   ],
   "id": "e2f8eaef-830f-4810-b026-a29a1651a1f3"
  },
  {
   "cell_type": "code",
   "source": [
    "# Попробуем уменьшить предсказания, чтобы оптимизировать ассиметричную метрику\n",
    "metric(Y_test.tolist(), [0.95 * x for x in pred])"
   ],
   "metadata": {
    "trusted": true,
    "tags": []
   },
   "execution_count": 11,
   "outputs": [
    {
     "execution_count": 11,
     "output_type": "execute_result",
     "data": {
      "text/plain": "-98051"
     },
     "metadata": {}
    }
   ],
   "id": "defa54bd-29ad-499c-b653-77edaf5e914a"
  },
  {
   "cell_type": "markdown",
   "source": [
    "## Сделаем предсказание"
   ],
   "metadata": {},
   "id": "e6797a08-302d-4aee-876f-ce30835548b9"
  },
  {
   "cell_type": "code",
   "source": [
    "df_test = pd.read_csv('/home/jovyan/work/test.csv')"
   ],
   "metadata": {
    "trusted": true,
    "tags": []
   },
   "execution_count": null,
   "outputs": [],
   "id": "805e4e9e-cfba-49d9-9885-b9730062cb20"
  },
  {
   "cell_type": "code",
   "source": [
    "X_pred = df_test[[f'day {x}' for x in range(2, 91)]]"
   ],
   "metadata": {
    "trusted": true,
    "tags": []
   },
   "execution_count": null,
   "outputs": [],
   "id": "a39c5e2f-4f2c-4b7c-b588-23f198263013"
  },
  {
   "cell_type": "code",
   "source": [
    "X_pred.shape"
   ],
   "metadata": {
    "trusted": true,
    "tags": []
   },
   "execution_count": null,
   "outputs": [],
   "id": "89b00f6c-4f7e-456c-b9c3-406793a9cf2f"
  },
  {
   "cell_type": "code",
   "source": [
    "pred = model.predict(X_pred)"
   ],
   "metadata": {
    "trusted": true,
    "tags": []
   },
   "execution_count": null,
   "outputs": [],
   "id": "fbb4e7ed-8829-4d02-8c20-cd5b7125f015"
  },
  {
   "cell_type": "code",
   "source": [
    "df_test['day 91'] = pred * 0.95"
   ],
   "metadata": {
    "trusted": true,
    "tags": []
   },
   "execution_count": null,
   "outputs": [],
   "id": "33d56cc4-b14d-4f0d-b964-55b923dc259f"
  },
  {
   "cell_type": "code",
   "source": [
    "df_test.head()"
   ],
   "metadata": {
    "trusted": true,
    "tags": []
   },
   "execution_count": null,
   "outputs": [],
   "id": "4009a5f0-6468-423c-9baa-c472cfc7b2ad"
  },
  {
   "cell_type": "code",
   "source": [
    "df_test[['id', 'day 91']].to_csv('/home/jovyan/work/samplesubmission.csv', index=False)"
   ],
   "metadata": {
    "trusted": true,
    "tags": []
   },
   "execution_count": null,
   "outputs": [],
   "id": "0780140f-e144-4521-ab94-d0e17416fb8e"
  },
  {
   "cell_type": "code",
   "source": [],
   "metadata": {},
   "execution_count": null,
   "outputs": [],
   "id": "31591411-50b8-490d-824e-25f33f3a1c3c"
  }
 ]
}
